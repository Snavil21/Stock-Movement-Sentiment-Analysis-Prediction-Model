{
 "cells": [
  {
   "cell_type": "markdown",
   "source": [
    "## Loading Imports"
   ],
   "metadata": {
    "collapsed": false
   },
   "id": "e517ef6e7cdae70c"
  },
  {
   "cell_type": "code",
   "execution_count": 22,
   "id": "initial_id",
   "metadata": {
    "collapsed": true,
    "ExecuteTime": {
     "end_time": "2024-12-08T16:08:21.201995Z",
     "start_time": "2024-12-08T16:08:21.196967Z"
    }
   },
   "outputs": [],
   "source": [
    "import pandas as  pd\n",
    "from nltk.sentiment.vader import SentimentIntensityAnalyzer"
   ]
  },
  {
   "cell_type": "markdown",
   "source": [
    "## Create Dataset"
   ],
   "metadata": {
    "collapsed": false
   },
   "id": "b364c1af18e530d4"
  },
  {
   "cell_type": "code",
   "outputs": [
    {
     "data": {
      "text/plain": "                                              headlines        Date  \\\n0                UPVOTE so everyone sees we got SUPPORT  2021-01-28   \n1                         GME YOLO update — Jan 28 2021  2021-01-28   \n2                  GME YOLO month-end update — Jan 2021  2021-01-29   \n3                                     It’s treason then  2021-01-29   \n4     CLASS ACTION AGAINST ROBINHOOD. Allowing peopl...  2021-01-28   \n...                                                 ...         ...   \n2149                           Good way to start a week  2021-04-13   \n2150                                    Well, shit.....  2024-06-04   \n2151  Jim Cramer urges investors to exit crypto, say...  2022-12-06   \n2152  Third member of prestigious FDA panel resigns ...  2021-06-11   \n2153               Goldman Sachs Top Retail Stock Picks  2022-03-28   \n\n       Adj Close       Close        High         Low        Open    Volume  \n0      92.927292   93.155502   94.941498   92.132004   92.196999  35462000  \n1      92.927292   93.155502   94.941498   92.132004   92.196999  35462000  \n2      91.562141   91.787003   92.863998   90.510002   92.308502  32252000  \n3      91.562141   91.787003   92.863998   90.510002   92.308502  32252000  \n4      92.927292   93.155502   94.941498   92.132004   92.196999  35462000  \n...          ...         ...         ...         ...         ...       ...  \n2149  113.085785  113.363503  113.860497  112.804497  113.073502  23310000  \n2150  174.700958  175.130005  175.190002  173.220001  174.449997  14066600  \n2151   97.071602   97.309998  100.209999   96.760002   99.669998  20877600  \n2152  125.388573  125.696503  126.349503  124.914497  126.246002  25240000  \n2153  141.602249  141.949997  141.976501  139.828156  140.684494  23774000  \n\n[2154 rows x 8 columns]",
      "text/html": "<div>\n<style scoped>\n    .dataframe tbody tr th:only-of-type {\n        vertical-align: middle;\n    }\n\n    .dataframe tbody tr th {\n        vertical-align: top;\n    }\n\n    .dataframe thead th {\n        text-align: right;\n    }\n</style>\n<table border=\"1\" class=\"dataframe\">\n  <thead>\n    <tr style=\"text-align: right;\">\n      <th></th>\n      <th>headlines</th>\n      <th>Date</th>\n      <th>Adj Close</th>\n      <th>Close</th>\n      <th>High</th>\n      <th>Low</th>\n      <th>Open</th>\n      <th>Volume</th>\n    </tr>\n  </thead>\n  <tbody>\n    <tr>\n      <th>0</th>\n      <td>UPVOTE so everyone sees we got SUPPORT</td>\n      <td>2021-01-28</td>\n      <td>92.927292</td>\n      <td>93.155502</td>\n      <td>94.941498</td>\n      <td>92.132004</td>\n      <td>92.196999</td>\n      <td>35462000</td>\n    </tr>\n    <tr>\n      <th>1</th>\n      <td>GME YOLO update — Jan 28 2021</td>\n      <td>2021-01-28</td>\n      <td>92.927292</td>\n      <td>93.155502</td>\n      <td>94.941498</td>\n      <td>92.132004</td>\n      <td>92.196999</td>\n      <td>35462000</td>\n    </tr>\n    <tr>\n      <th>2</th>\n      <td>GME YOLO month-end update — Jan 2021</td>\n      <td>2021-01-29</td>\n      <td>91.562141</td>\n      <td>91.787003</td>\n      <td>92.863998</td>\n      <td>90.510002</td>\n      <td>92.308502</td>\n      <td>32252000</td>\n    </tr>\n    <tr>\n      <th>3</th>\n      <td>It’s treason then</td>\n      <td>2021-01-29</td>\n      <td>91.562141</td>\n      <td>91.787003</td>\n      <td>92.863998</td>\n      <td>90.510002</td>\n      <td>92.308502</td>\n      <td>32252000</td>\n    </tr>\n    <tr>\n      <th>4</th>\n      <td>CLASS ACTION AGAINST ROBINHOOD. Allowing peopl...</td>\n      <td>2021-01-28</td>\n      <td>92.927292</td>\n      <td>93.155502</td>\n      <td>94.941498</td>\n      <td>92.132004</td>\n      <td>92.196999</td>\n      <td>35462000</td>\n    </tr>\n    <tr>\n      <th>...</th>\n      <td>...</td>\n      <td>...</td>\n      <td>...</td>\n      <td>...</td>\n      <td>...</td>\n      <td>...</td>\n      <td>...</td>\n      <td>...</td>\n    </tr>\n    <tr>\n      <th>2149</th>\n      <td>Good way to start a week</td>\n      <td>2021-04-13</td>\n      <td>113.085785</td>\n      <td>113.363503</td>\n      <td>113.860497</td>\n      <td>112.804497</td>\n      <td>113.073502</td>\n      <td>23310000</td>\n    </tr>\n    <tr>\n      <th>2150</th>\n      <td>Well, shit.....</td>\n      <td>2024-06-04</td>\n      <td>174.700958</td>\n      <td>175.130005</td>\n      <td>175.190002</td>\n      <td>173.220001</td>\n      <td>174.449997</td>\n      <td>14066600</td>\n    </tr>\n    <tr>\n      <th>2151</th>\n      <td>Jim Cramer urges investors to exit crypto, say...</td>\n      <td>2022-12-06</td>\n      <td>97.071602</td>\n      <td>97.309998</td>\n      <td>100.209999</td>\n      <td>96.760002</td>\n      <td>99.669998</td>\n      <td>20877600</td>\n    </tr>\n    <tr>\n      <th>2152</th>\n      <td>Third member of prestigious FDA panel resigns ...</td>\n      <td>2021-06-11</td>\n      <td>125.388573</td>\n      <td>125.696503</td>\n      <td>126.349503</td>\n      <td>124.914497</td>\n      <td>126.246002</td>\n      <td>25240000</td>\n    </tr>\n    <tr>\n      <th>2153</th>\n      <td>Goldman Sachs Top Retail Stock Picks</td>\n      <td>2022-03-28</td>\n      <td>141.602249</td>\n      <td>141.949997</td>\n      <td>141.976501</td>\n      <td>139.828156</td>\n      <td>140.684494</td>\n      <td>23774000</td>\n    </tr>\n  </tbody>\n</table>\n<p>2154 rows × 8 columns</p>\n</div>"
     },
     "execution_count": 23,
     "metadata": {},
     "output_type": "execute_result"
    }
   ],
   "source": [
    "df_final = pd.read_csv('Final Dataset.csv')\n",
    "df_final"
   ],
   "metadata": {
    "collapsed": false,
    "ExecuteTime": {
     "end_time": "2024-12-08T16:08:23.003303Z",
     "start_time": "2024-12-08T16:08:22.976612Z"
    }
   },
   "id": "b8838b26f0038258",
   "execution_count": 23
  },
  {
   "cell_type": "markdown",
   "source": [
    "## Sentiment Analysis"
   ],
   "metadata": {
    "collapsed": false
   },
   "id": "862c827a336b8bd9"
  },
  {
   "cell_type": "code",
   "outputs": [
    {
     "data": {
      "text/plain": "                                              headlines        Date  \\\n0                UPVOTE so everyone sees we got SUPPORT  2021-01-28   \n1                         GME YOLO update — Jan 28 2021  2021-01-28   \n2                  GME YOLO month-end update — Jan 2021  2021-01-29   \n3                                     It’s treason then  2021-01-29   \n4     CLASS ACTION AGAINST ROBINHOOD. Allowing peopl...  2021-01-28   \n...                                                 ...         ...   \n2159                           Good way to start a week  2021-04-13   \n2160                                    Well, shit.....  2024-06-04   \n2161  Jim Cramer urges investors to exit crypto, say...  2022-12-06   \n2162  Third member of prestigious FDA panel resigns ...  2021-06-11   \n2163               Goldman Sachs Top Retail Stock Picks  2022-03-28   \n\n       Adj Close       Close        High         Low        Open    Volume  \\\n0      92.927292   93.155502   94.941498   92.132004   92.196999  35462000   \n1      92.927292   93.155502   94.941498   92.132004   92.196999  35462000   \n2      91.562141   91.787003   92.863998   90.510002   92.308502  32252000   \n3      91.562141   91.787003   92.863998   90.510002   92.308502  32252000   \n4      92.927292   93.155502   94.941498   92.132004   92.196999  35462000   \n...          ...         ...         ...         ...         ...       ...   \n2159  113.085785  113.363503  113.860497  112.804497  113.073502  23310000   \n2160  174.700958  175.130005  175.190002  173.220001  174.449997  14066600   \n2161   97.071602   97.309998  100.209999   96.760002   99.669998  20877600   \n2162  125.388573  125.696503  126.349503  124.914497  126.246002  25240000   \n2163  141.602249  141.949997  141.976501  139.828156  140.684494  23774000   \n\n      Sentiment  \n0        0.5319  \n1        0.4278  \n2        0.4278  \n3       -0.4404  \n4       -0.5994  \n...         ...  \n2159     0.4404  \n2160     0.2732  \n2161    -0.1779  \n2162     0.2023  \n2163     0.2023  \n\n[2164 rows x 9 columns]",
      "text/html": "<div>\n<style scoped>\n    .dataframe tbody tr th:only-of-type {\n        vertical-align: middle;\n    }\n\n    .dataframe tbody tr th {\n        vertical-align: top;\n    }\n\n    .dataframe thead th {\n        text-align: right;\n    }\n</style>\n<table border=\"1\" class=\"dataframe\">\n  <thead>\n    <tr style=\"text-align: right;\">\n      <th></th>\n      <th>headlines</th>\n      <th>Date</th>\n      <th>Adj Close</th>\n      <th>Close</th>\n      <th>High</th>\n      <th>Low</th>\n      <th>Open</th>\n      <th>Volume</th>\n      <th>Sentiment</th>\n    </tr>\n  </thead>\n  <tbody>\n    <tr>\n      <th>0</th>\n      <td>UPVOTE so everyone sees we got SUPPORT</td>\n      <td>2021-01-28</td>\n      <td>92.927292</td>\n      <td>93.155502</td>\n      <td>94.941498</td>\n      <td>92.132004</td>\n      <td>92.196999</td>\n      <td>35462000</td>\n      <td>0.5319</td>\n    </tr>\n    <tr>\n      <th>1</th>\n      <td>GME YOLO update — Jan 28 2021</td>\n      <td>2021-01-28</td>\n      <td>92.927292</td>\n      <td>93.155502</td>\n      <td>94.941498</td>\n      <td>92.132004</td>\n      <td>92.196999</td>\n      <td>35462000</td>\n      <td>0.4278</td>\n    </tr>\n    <tr>\n      <th>2</th>\n      <td>GME YOLO month-end update — Jan 2021</td>\n      <td>2021-01-29</td>\n      <td>91.562141</td>\n      <td>91.787003</td>\n      <td>92.863998</td>\n      <td>90.510002</td>\n      <td>92.308502</td>\n      <td>32252000</td>\n      <td>0.4278</td>\n    </tr>\n    <tr>\n      <th>3</th>\n      <td>It’s treason then</td>\n      <td>2021-01-29</td>\n      <td>91.562141</td>\n      <td>91.787003</td>\n      <td>92.863998</td>\n      <td>90.510002</td>\n      <td>92.308502</td>\n      <td>32252000</td>\n      <td>-0.4404</td>\n    </tr>\n    <tr>\n      <th>4</th>\n      <td>CLASS ACTION AGAINST ROBINHOOD. Allowing peopl...</td>\n      <td>2021-01-28</td>\n      <td>92.927292</td>\n      <td>93.155502</td>\n      <td>94.941498</td>\n      <td>92.132004</td>\n      <td>92.196999</td>\n      <td>35462000</td>\n      <td>-0.5994</td>\n    </tr>\n    <tr>\n      <th>...</th>\n      <td>...</td>\n      <td>...</td>\n      <td>...</td>\n      <td>...</td>\n      <td>...</td>\n      <td>...</td>\n      <td>...</td>\n      <td>...</td>\n      <td>...</td>\n    </tr>\n    <tr>\n      <th>2159</th>\n      <td>Good way to start a week</td>\n      <td>2021-04-13</td>\n      <td>113.085785</td>\n      <td>113.363503</td>\n      <td>113.860497</td>\n      <td>112.804497</td>\n      <td>113.073502</td>\n      <td>23310000</td>\n      <td>0.4404</td>\n    </tr>\n    <tr>\n      <th>2160</th>\n      <td>Well, shit.....</td>\n      <td>2024-06-04</td>\n      <td>174.700958</td>\n      <td>175.130005</td>\n      <td>175.190002</td>\n      <td>173.220001</td>\n      <td>174.449997</td>\n      <td>14066600</td>\n      <td>0.2732</td>\n    </tr>\n    <tr>\n      <th>2161</th>\n      <td>Jim Cramer urges investors to exit crypto, say...</td>\n      <td>2022-12-06</td>\n      <td>97.071602</td>\n      <td>97.309998</td>\n      <td>100.209999</td>\n      <td>96.760002</td>\n      <td>99.669998</td>\n      <td>20877600</td>\n      <td>-0.1779</td>\n    </tr>\n    <tr>\n      <th>2162</th>\n      <td>Third member of prestigious FDA panel resigns ...</td>\n      <td>2021-06-11</td>\n      <td>125.388573</td>\n      <td>125.696503</td>\n      <td>126.349503</td>\n      <td>124.914497</td>\n      <td>126.246002</td>\n      <td>25240000</td>\n      <td>0.2023</td>\n    </tr>\n    <tr>\n      <th>2163</th>\n      <td>Goldman Sachs Top Retail Stock Picks</td>\n      <td>2022-03-28</td>\n      <td>141.602249</td>\n      <td>141.949997</td>\n      <td>141.976501</td>\n      <td>139.828156</td>\n      <td>140.684494</td>\n      <td>23774000</td>\n      <td>0.2023</td>\n    </tr>\n  </tbody>\n</table>\n<p>2164 rows × 9 columns</p>\n</div>"
     },
     "execution_count": 24,
     "metadata": {},
     "output_type": "execute_result"
    }
   ],
   "source": [
    "asi = SentimentIntensityAnalyzer()\n",
    "result = []\n",
    "for line in df_final['headlines']:\n",
    "    polarity = asi.polarity_scores(line)\n",
    "    result.append(polarity)\n",
    "    polarity['headlines'] = line\n",
    "test = pd.DataFrame.from_records(result)\n",
    "test.drop(columns=['neg','neu','pos'], inplace=True)\n",
    "df_final = pd.merge(df_final, test, on='headlines', how='inner')\n",
    "df_final.rename(columns={'compound':'Sentiment'}, inplace=True)\n",
    "df_final"
   ],
   "metadata": {
    "collapsed": false,
    "ExecuteTime": {
     "end_time": "2024-12-08T16:08:25.036014Z",
     "start_time": "2024-12-08T16:08:24.801665Z"
    }
   },
   "id": "12920721e7ae4b7f",
   "execution_count": 24
  },
  {
   "cell_type": "code",
   "outputs": [
    {
     "name": "stdout",
     "output_type": "stream",
     "text": [
      "<class 'pandas.core.frame.DataFrame'>\n",
      "RangeIndex: 2164 entries, 0 to 2163\n",
      "Data columns (total 9 columns):\n",
      " #   Column     Non-Null Count  Dtype  \n",
      "---  ------     --------------  -----  \n",
      " 0   headlines  2164 non-null   object \n",
      " 1   Date       2164 non-null   object \n",
      " 2   Adj Close  2164 non-null   float64\n",
      " 3   Close      2164 non-null   float64\n",
      " 4   High       2164 non-null   float64\n",
      " 5   Low        2164 non-null   float64\n",
      " 6   Open       2164 non-null   float64\n",
      " 7   Volume     2164 non-null   int64  \n",
      " 8   Sentiment  2164 non-null   float64\n",
      "dtypes: float64(6), int64(1), object(2)\n",
      "memory usage: 152.3+ KB\n"
     ]
    }
   ],
   "source": [
    "df_final.info()"
   ],
   "metadata": {
    "collapsed": false,
    "ExecuteTime": {
     "end_time": "2024-12-08T16:08:35.075180Z",
     "start_time": "2024-12-08T16:08:35.063555Z"
    }
   },
   "id": "d4ff9ef71d6503ab",
   "execution_count": 25
  },
  {
   "cell_type": "markdown",
   "source": [
    "## Removing Datatype Discrepancy"
   ],
   "metadata": {
    "collapsed": false
   },
   "id": "c167f9ec3cd891b6"
  },
  {
   "cell_type": "code",
   "outputs": [
    {
     "name": "stdout",
     "output_type": "stream",
     "text": [
      "<class 'pandas.core.frame.DataFrame'>\n",
      "RangeIndex: 2164 entries, 0 to 2163\n",
      "Data columns (total 9 columns):\n",
      " #   Column     Non-Null Count  Dtype  \n",
      "---  ------     --------------  -----  \n",
      " 0   headlines  2164 non-null   object \n",
      " 1   Date       2164 non-null   object \n",
      " 2   Adj Close  2164 non-null   float64\n",
      " 3   Close      2164 non-null   float64\n",
      " 4   High       2164 non-null   float64\n",
      " 5   Low        2164 non-null   float64\n",
      " 6   Open       2164 non-null   float64\n",
      " 7   Volume     2164 non-null   int64  \n",
      " 8   Sentiment  2164 non-null   float64\n",
      "dtypes: float64(6), int64(1), object(2)\n",
      "memory usage: 152.3+ KB\n"
     ]
    }
   ],
   "source": [
    "df_final['Close'] = pd.to_numeric(df_final['Close'], errors='coerce')\n",
    "df_final.info()"
   ],
   "metadata": {
    "collapsed": false,
    "ExecuteTime": {
     "end_time": "2024-12-08T16:08:46.351583Z",
     "start_time": "2024-12-08T16:08:46.340739Z"
    }
   },
   "id": "cdd73acf7f315c3b",
   "execution_count": 26
  },
  {
   "cell_type": "code",
   "outputs": [
    {
     "data": {
      "text/plain": "headlines    0\nDate         0\nAdj Close    0\nClose        0\nHigh         0\nLow          0\nOpen         0\nVolume       0\nSentiment    0\ndtype: int64"
     },
     "execution_count": 27,
     "metadata": {},
     "output_type": "execute_result"
    }
   ],
   "source": [
    "df_final.isnull().sum()"
   ],
   "metadata": {
    "collapsed": false,
    "ExecuteTime": {
     "end_time": "2024-12-08T16:09:14.675728Z",
     "start_time": "2024-12-08T16:09:14.667353Z"
    }
   },
   "id": "bc46eee01ec0a965",
   "execution_count": 27
  },
  {
   "cell_type": "code",
   "outputs": [],
   "source": [
    "df_final.to_csv('Model Data.csv',index=False,encoding='utf-8')"
   ],
   "metadata": {
    "collapsed": false,
    "ExecuteTime": {
     "end_time": "2024-12-08T16:17:03.728437Z",
     "start_time": "2024-12-08T16:17:03.702174Z"
    }
   },
   "id": "d7aa8b82adfb2b49",
   "execution_count": 31
  },
  {
   "cell_type": "markdown",
   "source": [
    "## Next: We Move onto Prediction Model -->"
   ],
   "metadata": {
    "collapsed": false
   },
   "id": "71fe65135b425e1"
  },
  {
   "cell_type": "code",
   "outputs": [],
   "source": [],
   "metadata": {
    "collapsed": false
   },
   "id": "ea5b79ee1468bdee"
  }
 ],
 "metadata": {
  "kernelspec": {
   "display_name": "Python 3",
   "language": "python",
   "name": "python3"
  },
  "language_info": {
   "codemirror_mode": {
    "name": "ipython",
    "version": 2
   },
   "file_extension": ".py",
   "mimetype": "text/x-python",
   "name": "python",
   "nbconvert_exporter": "python",
   "pygments_lexer": "ipython2",
   "version": "2.7.6"
  }
 },
 "nbformat": 4,
 "nbformat_minor": 5
}

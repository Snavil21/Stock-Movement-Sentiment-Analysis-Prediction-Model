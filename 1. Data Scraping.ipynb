{
 "cells": [
  {
   "cell_type": "markdown",
   "source": [
    "## Importing Libraries"
   ],
   "metadata": {
    "collapsed": false
   },
   "id": "a0af8319c37ced75"
  },
  {
   "cell_type": "code",
   "execution_count": 1,
   "id": "initial_id",
   "metadata": {
    "collapsed": true,
    "ExecuteTime": {
     "end_time": "2024-12-09T06:09:08.317611Z",
     "start_time": "2024-12-09T06:09:06.352038Z"
    }
   },
   "outputs": [],
   "source": [
    "import pandas as pd\n",
    "import praw\n",
    "import yfinance as yf"
   ]
  },
  {
   "cell_type": "markdown",
   "source": [
    "## Scraping Reddit Data using PRAW"
   ],
   "metadata": {
    "collapsed": false
   },
   "id": "69ca77e0eab7e12c"
  },
  {
   "cell_type": "code",
   "outputs": [],
   "source": [
    "user_agent = 'Redddit Scrapper 1.0 (by /u/Snavil21)'\n",
    "reddit = praw.Reddit(\n",
    "    client_id = 'K-0k94GiJ9MWzIDIJfrsxQ',\n",
    "    client_secret = 'NgZ4BxKfD4PQprH5Fuc6ABedOFFUKA',\n",
    "    user_agent = user_agent\n",
    ")"
   ],
   "metadata": {
    "collapsed": false,
    "ExecuteTime": {
     "end_time": "2024-12-09T06:09:08.659307Z",
     "start_time": "2024-12-09T06:09:08.318615Z"
    }
   },
   "id": "1cb40bbc8a4ca100",
   "execution_count": 2
  },
  {
   "cell_type": "code",
   "outputs": [],
   "source": [
    "headlines = []\n",
    "dates = []\n",
    "def get_submissions(subreddit,limit):\n",
    "    for submission in reddit.subreddit(subreddit).top(limit=1000):\n",
    "        headlines.append(submission.title)\n",
    "        dates.append(pd.to_datetime(submission.created_utc,unit='s'))\n",
    "    print(len(headlines))"
   ],
   "metadata": {
    "collapsed": false,
    "ExecuteTime": {
     "end_time": "2024-12-09T06:09:08.663789Z",
     "start_time": "2024-12-09T06:09:08.660303Z"
    }
   },
   "id": "550a0db08965823a",
   "execution_count": 3
  },
  {
   "cell_type": "markdown",
   "source": [
    "## Wrangling 3 Subreddits: WallStreetBets, Investing, and StockMarket"
   ],
   "metadata": {
    "collapsed": false
   },
   "id": "ba0f5cf07f1e5a34"
  },
  {
   "cell_type": "code",
   "outputs": [
    {
     "name": "stdout",
     "output_type": "stream",
     "text": [
      "954\n",
      "1944\n",
      "2828\n"
     ]
    }
   ],
   "source": [
    "sub_list = ['wallstreetbets','investing','StockMarket']\n",
    "for sub in sub_list:\n",
    "    get_submissions(sub, 1000)"
   ],
   "metadata": {
    "collapsed": false,
    "ExecuteTime": {
     "end_time": "2024-12-09T06:10:07.927943Z",
     "start_time": "2024-12-09T06:09:08.664786Z"
    }
   },
   "id": "f5cca921587617ee",
   "execution_count": 4
  },
  {
   "cell_type": "markdown",
   "source": [
    "## Creating Dataset"
   ],
   "metadata": {
    "collapsed": false
   },
   "id": "ac1e590cf5b03041"
  },
  {
   "cell_type": "code",
   "outputs": [],
   "source": [
    "df_headline = pd.DataFrame(headlines,columns=['headlines'])\n",
    "df_dates = pd.DataFrame(dates,columns=['Date'])"
   ],
   "metadata": {
    "collapsed": false,
    "ExecuteTime": {
     "end_time": "2024-12-09T06:10:07.938186Z",
     "start_time": "2024-12-09T06:10:07.928948Z"
    }
   },
   "id": "e1b64e2460140d9a",
   "execution_count": 5
  },
  {
   "cell_type": "code",
   "outputs": [
    {
     "data": {
      "text/plain": "                                              headlines\n0                                Times Square right now\n1                UPVOTE so everyone sees we got SUPPORT\n2                         GME YOLO update — Jan 28 2021\n3                  GME YOLO month-end update — Jan 2021\n4                                     It’s treason then\n...                                                 ...\n2823  Elon Musk accused of breaking law while buying...\n2824                           Good way to start a week\n2825                                    Well, shit.....\n2826  Jim Cramer urges investors to exit crypto, say...\n2827  Third member of prestigious FDA panel resigns ...\n\n[2828 rows x 1 columns]",
      "text/html": "<div>\n<style scoped>\n    .dataframe tbody tr th:only-of-type {\n        vertical-align: middle;\n    }\n\n    .dataframe tbody tr th {\n        vertical-align: top;\n    }\n\n    .dataframe thead th {\n        text-align: right;\n    }\n</style>\n<table border=\"1\" class=\"dataframe\">\n  <thead>\n    <tr style=\"text-align: right;\">\n      <th></th>\n      <th>headlines</th>\n    </tr>\n  </thead>\n  <tbody>\n    <tr>\n      <th>0</th>\n      <td>Times Square right now</td>\n    </tr>\n    <tr>\n      <th>1</th>\n      <td>UPVOTE so everyone sees we got SUPPORT</td>\n    </tr>\n    <tr>\n      <th>2</th>\n      <td>GME YOLO update — Jan 28 2021</td>\n    </tr>\n    <tr>\n      <th>3</th>\n      <td>GME YOLO month-end update — Jan 2021</td>\n    </tr>\n    <tr>\n      <th>4</th>\n      <td>It’s treason then</td>\n    </tr>\n    <tr>\n      <th>...</th>\n      <td>...</td>\n    </tr>\n    <tr>\n      <th>2823</th>\n      <td>Elon Musk accused of breaking law while buying...</td>\n    </tr>\n    <tr>\n      <th>2824</th>\n      <td>Good way to start a week</td>\n    </tr>\n    <tr>\n      <th>2825</th>\n      <td>Well, shit.....</td>\n    </tr>\n    <tr>\n      <th>2826</th>\n      <td>Jim Cramer urges investors to exit crypto, say...</td>\n    </tr>\n    <tr>\n      <th>2827</th>\n      <td>Third member of prestigious FDA panel resigns ...</td>\n    </tr>\n  </tbody>\n</table>\n<p>2828 rows × 1 columns</p>\n</div>"
     },
     "execution_count": 7,
     "metadata": {},
     "output_type": "execute_result"
    }
   ],
   "source": [
    "df_headline.to_csv('Created Dataframes/Fetched Headline.csv',index=False,encoding='utf-8')\n",
    "df_headline"
   ],
   "metadata": {
    "collapsed": false,
    "ExecuteTime": {
     "end_time": "2024-12-09T06:13:42.788116Z",
     "start_time": "2024-12-09T06:13:42.769045Z"
    }
   },
   "id": "5c84c4d478c4fe5a",
   "execution_count": 7
  },
  {
   "cell_type": "code",
   "outputs": [
    {
     "data": {
      "text/plain": "                    Date\n0    2021-01-30 18:00:38\n1    2021-01-28 13:40:34\n2    2021-01-28 21:06:23\n3    2021-01-29 21:04:45\n4    2021-01-29 23:40:59\n...                  ...\n2823 2022-04-13 08:27:35\n2824 2021-04-13 07:06:14\n2825 2024-06-04 16:05:29\n2826 2022-12-06 13:45:21\n2827 2021-06-11 14:12:58\n\n[2828 rows x 1 columns]",
      "text/html": "<div>\n<style scoped>\n    .dataframe tbody tr th:only-of-type {\n        vertical-align: middle;\n    }\n\n    .dataframe tbody tr th {\n        vertical-align: top;\n    }\n\n    .dataframe thead th {\n        text-align: right;\n    }\n</style>\n<table border=\"1\" class=\"dataframe\">\n  <thead>\n    <tr style=\"text-align: right;\">\n      <th></th>\n      <th>Date</th>\n    </tr>\n  </thead>\n  <tbody>\n    <tr>\n      <th>0</th>\n      <td>2021-01-30 18:00:38</td>\n    </tr>\n    <tr>\n      <th>1</th>\n      <td>2021-01-28 13:40:34</td>\n    </tr>\n    <tr>\n      <th>2</th>\n      <td>2021-01-28 21:06:23</td>\n    </tr>\n    <tr>\n      <th>3</th>\n      <td>2021-01-29 21:04:45</td>\n    </tr>\n    <tr>\n      <th>4</th>\n      <td>2021-01-29 23:40:59</td>\n    </tr>\n    <tr>\n      <th>...</th>\n      <td>...</td>\n    </tr>\n    <tr>\n      <th>2823</th>\n      <td>2022-04-13 08:27:35</td>\n    </tr>\n    <tr>\n      <th>2824</th>\n      <td>2021-04-13 07:06:14</td>\n    </tr>\n    <tr>\n      <th>2825</th>\n      <td>2024-06-04 16:05:29</td>\n    </tr>\n    <tr>\n      <th>2826</th>\n      <td>2022-12-06 13:45:21</td>\n    </tr>\n    <tr>\n      <th>2827</th>\n      <td>2021-06-11 14:12:58</td>\n    </tr>\n  </tbody>\n</table>\n<p>2828 rows × 1 columns</p>\n</div>"
     },
     "execution_count": 8,
     "metadata": {},
     "output_type": "execute_result"
    }
   ],
   "source": [
    "df_dates.to_csv('Created Dataframes/Fetched Dates.csv',index=False,encoding='utf-8')\n",
    "df_dates"
   ],
   "metadata": {
    "collapsed": false,
    "ExecuteTime": {
     "end_time": "2024-12-09T06:13:44.392329Z",
     "start_time": "2024-12-09T06:13:44.378891Z"
    }
   },
   "id": "2dae6b8fa87acce0",
   "execution_count": 8
  },
  {
   "cell_type": "markdown",
   "source": [
    "## Fetching Stock Data from Yahoo"
   ],
   "metadata": {
    "collapsed": false
   },
   "id": "2f8b04b7ed1c2b8e"
  },
  {
   "cell_type": "code",
   "outputs": [
    {
     "name": "stderr",
     "output_type": "stream",
     "text": [
      "[*********************100%***********************]  1 of 1 completed\n"
     ]
    },
    {
     "data": {
      "text/plain": "Price        Date   Adj Close       Close        High         Low        Open  \\\nTicker                   GOOG        GOOG        GOOG        GOOG        GOOG   \n0      2013-11-18   25.629507   25.692448   26.120594   25.634914   25.797056   \n1      2013-11-19   25.471735   25.534290   25.772150   25.480742   25.696684   \n2      2013-11-20   25.399933   25.462311   25.737530   25.413742   25.652597   \n3      2013-11-21   25.692118   25.755213   25.860817   25.554216   25.579123   \n4      2013-11-22   25.637955   25.700916   25.807516   25.634417   25.739023   \n...           ...         ...         ...         ...         ...         ...   \n2774   2024-11-26  170.619995  170.619995  171.494995  169.429993  169.490005   \n2775   2024-11-27  170.820007  170.820007  171.139999  169.669998  170.679993   \n2776   2024-11-29  170.490005  170.490005  170.869995  168.750000  170.059998   \n2777   2024-12-02  172.979996  172.979996  173.600006  170.270004  170.320007   \n2778   2024-12-03  173.020004  173.020004  174.320007  172.509995  173.119995   \n\nPrice     Volume  \nTicker      GOOG  \n0       70651832  \n1       45433661  \n2       38692487  \n3       43835693  \n4       50356042  \n...          ...  \n2774    14937500  \n2775    12433400  \n2776     9250700  \n2777    16593400  \n2778    15721500  \n\n[2779 rows x 7 columns]",
      "text/html": "<div>\n<style scoped>\n    .dataframe tbody tr th:only-of-type {\n        vertical-align: middle;\n    }\n\n    .dataframe tbody tr th {\n        vertical-align: top;\n    }\n\n    .dataframe thead tr th {\n        text-align: left;\n    }\n</style>\n<table border=\"1\" class=\"dataframe\">\n  <thead>\n    <tr>\n      <th>Price</th>\n      <th>Date</th>\n      <th>Adj Close</th>\n      <th>Close</th>\n      <th>High</th>\n      <th>Low</th>\n      <th>Open</th>\n      <th>Volume</th>\n    </tr>\n    <tr>\n      <th>Ticker</th>\n      <th></th>\n      <th>GOOG</th>\n      <th>GOOG</th>\n      <th>GOOG</th>\n      <th>GOOG</th>\n      <th>GOOG</th>\n      <th>GOOG</th>\n    </tr>\n  </thead>\n  <tbody>\n    <tr>\n      <th>0</th>\n      <td>2013-11-18</td>\n      <td>25.629507</td>\n      <td>25.692448</td>\n      <td>26.120594</td>\n      <td>25.634914</td>\n      <td>25.797056</td>\n      <td>70651832</td>\n    </tr>\n    <tr>\n      <th>1</th>\n      <td>2013-11-19</td>\n      <td>25.471735</td>\n      <td>25.534290</td>\n      <td>25.772150</td>\n      <td>25.480742</td>\n      <td>25.696684</td>\n      <td>45433661</td>\n    </tr>\n    <tr>\n      <th>2</th>\n      <td>2013-11-20</td>\n      <td>25.399933</td>\n      <td>25.462311</td>\n      <td>25.737530</td>\n      <td>25.413742</td>\n      <td>25.652597</td>\n      <td>38692487</td>\n    </tr>\n    <tr>\n      <th>3</th>\n      <td>2013-11-21</td>\n      <td>25.692118</td>\n      <td>25.755213</td>\n      <td>25.860817</td>\n      <td>25.554216</td>\n      <td>25.579123</td>\n      <td>43835693</td>\n    </tr>\n    <tr>\n      <th>4</th>\n      <td>2013-11-22</td>\n      <td>25.637955</td>\n      <td>25.700916</td>\n      <td>25.807516</td>\n      <td>25.634417</td>\n      <td>25.739023</td>\n      <td>50356042</td>\n    </tr>\n    <tr>\n      <th>...</th>\n      <td>...</td>\n      <td>...</td>\n      <td>...</td>\n      <td>...</td>\n      <td>...</td>\n      <td>...</td>\n      <td>...</td>\n    </tr>\n    <tr>\n      <th>2774</th>\n      <td>2024-11-26</td>\n      <td>170.619995</td>\n      <td>170.619995</td>\n      <td>171.494995</td>\n      <td>169.429993</td>\n      <td>169.490005</td>\n      <td>14937500</td>\n    </tr>\n    <tr>\n      <th>2775</th>\n      <td>2024-11-27</td>\n      <td>170.820007</td>\n      <td>170.820007</td>\n      <td>171.139999</td>\n      <td>169.669998</td>\n      <td>170.679993</td>\n      <td>12433400</td>\n    </tr>\n    <tr>\n      <th>2776</th>\n      <td>2024-11-29</td>\n      <td>170.490005</td>\n      <td>170.490005</td>\n      <td>170.869995</td>\n      <td>168.750000</td>\n      <td>170.059998</td>\n      <td>9250700</td>\n    </tr>\n    <tr>\n      <th>2777</th>\n      <td>2024-12-02</td>\n      <td>172.979996</td>\n      <td>172.979996</td>\n      <td>173.600006</td>\n      <td>170.270004</td>\n      <td>170.320007</td>\n      <td>16593400</td>\n    </tr>\n    <tr>\n      <th>2778</th>\n      <td>2024-12-03</td>\n      <td>173.020004</td>\n      <td>173.020004</td>\n      <td>174.320007</td>\n      <td>172.509995</td>\n      <td>173.119995</td>\n      <td>15721500</td>\n    </tr>\n  </tbody>\n</table>\n<p>2779 rows × 7 columns</p>\n</div>"
     },
     "execution_count": 9,
     "metadata": {},
     "output_type": "execute_result"
    }
   ],
   "source": [
    "ticker  = 'GOOG'\n",
    "stock_data = yf.download(ticker,start='2013-11-18',end='2024-12-04')\n",
    "stock_data.reset_index(inplace=True)\n",
    "stock_data"
   ],
   "metadata": {
    "collapsed": false,
    "ExecuteTime": {
     "end_time": "2024-12-09T06:14:01.616834Z",
     "start_time": "2024-12-09T06:13:47.304949Z"
    }
   },
   "id": "75dd4919648f0d85",
   "execution_count": 9
  },
  {
   "cell_type": "code",
   "outputs": [],
   "source": [
    "stock_data.to_csv('Created Dataframes/Fetched Stock Data.csv',index=False,encoding='utf-8')"
   ],
   "metadata": {
    "collapsed": false,
    "ExecuteTime": {
     "end_time": "2024-12-09T06:14:13.630514Z",
     "start_time": "2024-12-09T06:14:13.608428Z"
    }
   },
   "id": "f82fff1bb5668677",
   "execution_count": 10
  },
  {
   "cell_type": "markdown",
   "source": [
    "## Next: We Move onto Data Analysis -->"
   ],
   "metadata": {
    "collapsed": false
   },
   "id": "b0eaf0b39d10cf05"
  },
  {
   "cell_type": "code",
   "outputs": [],
   "source": [],
   "metadata": {
    "collapsed": false
   },
   "id": "ca17f09857c52caf"
  }
 ],
 "metadata": {
  "kernelspec": {
   "display_name": "Python 3",
   "language": "python",
   "name": "python3"
  },
  "language_info": {
   "codemirror_mode": {
    "name": "ipython",
    "version": 2
   },
   "file_extension": ".py",
   "mimetype": "text/x-python",
   "name": "python",
   "nbconvert_exporter": "python",
   "pygments_lexer": "ipython2",
   "version": "2.7.6"
  }
 },
 "nbformat": 4,
 "nbformat_minor": 5
}

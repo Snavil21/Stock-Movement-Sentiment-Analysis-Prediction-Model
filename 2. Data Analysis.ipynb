{
 "cells": [
  {
   "cell_type": "markdown",
   "source": [
    "## Importing Libraries"
   ],
   "metadata": {
    "collapsed": false
   },
   "id": "1b91fdc088e62243"
  },
  {
   "cell_type": "code",
   "outputs": [],
   "source": [
    "import pandas as pd"
   ],
   "metadata": {
    "collapsed": false,
    "ExecuteTime": {
     "end_time": "2024-12-08T15:15:28.924549Z",
     "start_time": "2024-12-08T15:15:28.920783Z"
    }
   },
   "id": "e4ac6c664ed1e77f",
   "execution_count": 1
  },
  {
   "cell_type": "markdown",
   "source": [
    "## Creating Dataframes"
   ],
   "metadata": {
    "collapsed": false
   },
   "id": "2cf6a7fbd6f242"
  },
  {
   "cell_type": "code",
   "outputs": [],
   "source": [
    "df_headlines = pd.read_csv('Created Dataframes/Fetched Headline.csv')\n",
    "df_dates = pd.read_csv('Created Dataframes/Fetched Dates.csv')\n",
    "df_stock = pd.read_csv('Created Dataframes/Fetched Stock Data.csv')"
   ],
   "metadata": {
    "collapsed": false,
    "ExecuteTime": {
     "end_time": "2024-12-08T15:17:39.272673Z",
     "start_time": "2024-12-08T15:17:39.239917Z"
    }
   },
   "id": "88a585ae3ea154e5",
   "execution_count": 3
  },
  {
   "cell_type": "markdown",
   "source": [
    "## Subreddit Headlines"
   ],
   "metadata": {
    "collapsed": false
   },
   "id": "5dbfa49f2c74fee0"
  },
  {
   "cell_type": "code",
   "outputs": [
    {
     "data": {
      "text/plain": "                                              headlines\n0                                Times Square right now\n1                UPVOTE so everyone sees we got SUPPORT\n2                         GME YOLO update — Jan 28 2021\n3                  GME YOLO month-end update — Jan 2021\n4                                     It’s treason then\n...                                                 ...\n2821                           Good way to start a week\n2822                                    Well, shit.....\n2823  Jim Cramer urges investors to exit crypto, say...\n2824  Third member of prestigious FDA panel resigns ...\n2825               Goldman Sachs Top Retail Stock Picks\n\n[2826 rows x 1 columns]",
      "text/html": "<div>\n<style scoped>\n    .dataframe tbody tr th:only-of-type {\n        vertical-align: middle;\n    }\n\n    .dataframe tbody tr th {\n        vertical-align: top;\n    }\n\n    .dataframe thead th {\n        text-align: right;\n    }\n</style>\n<table border=\"1\" class=\"dataframe\">\n  <thead>\n    <tr style=\"text-align: right;\">\n      <th></th>\n      <th>headlines</th>\n    </tr>\n  </thead>\n  <tbody>\n    <tr>\n      <th>0</th>\n      <td>Times Square right now</td>\n    </tr>\n    <tr>\n      <th>1</th>\n      <td>UPVOTE so everyone sees we got SUPPORT</td>\n    </tr>\n    <tr>\n      <th>2</th>\n      <td>GME YOLO update — Jan 28 2021</td>\n    </tr>\n    <tr>\n      <th>3</th>\n      <td>GME YOLO month-end update — Jan 2021</td>\n    </tr>\n    <tr>\n      <th>4</th>\n      <td>It’s treason then</td>\n    </tr>\n    <tr>\n      <th>...</th>\n      <td>...</td>\n    </tr>\n    <tr>\n      <th>2821</th>\n      <td>Good way to start a week</td>\n    </tr>\n    <tr>\n      <th>2822</th>\n      <td>Well, shit.....</td>\n    </tr>\n    <tr>\n      <th>2823</th>\n      <td>Jim Cramer urges investors to exit crypto, say...</td>\n    </tr>\n    <tr>\n      <th>2824</th>\n      <td>Third member of prestigious FDA panel resigns ...</td>\n    </tr>\n    <tr>\n      <th>2825</th>\n      <td>Goldman Sachs Top Retail Stock Picks</td>\n    </tr>\n  </tbody>\n</table>\n<p>2826 rows × 1 columns</p>\n</div>"
     },
     "execution_count": 4,
     "metadata": {},
     "output_type": "execute_result"
    }
   ],
   "source": [
    "df_headlines"
   ],
   "metadata": {
    "collapsed": false,
    "ExecuteTime": {
     "end_time": "2024-12-08T15:17:40.599431Z",
     "start_time": "2024-12-08T15:17:40.581690Z"
    }
   },
   "id": "ead694fd56d94c4c",
   "execution_count": 4
  },
  {
   "cell_type": "markdown",
   "source": [
    "## Subreddit Dates"
   ],
   "metadata": {
    "collapsed": false
   },
   "id": "c7bd39fbd464c8f9"
  },
  {
   "cell_type": "code",
   "outputs": [
    {
     "data": {
      "text/plain": "                     Date\n0     2021-01-30 18:00:38\n1     2021-01-28 13:40:34\n2     2021-01-28 21:06:23\n3     2021-01-29 21:04:45\n4     2021-01-29 23:40:59\n...                   ...\n2821  2021-04-13 07:06:14\n2822  2024-06-04 16:05:29\n2823  2022-12-06 13:45:21\n2824  2021-06-11 14:12:58\n2825  2022-03-28 21:39:41\n\n[2826 rows x 1 columns]",
      "text/html": "<div>\n<style scoped>\n    .dataframe tbody tr th:only-of-type {\n        vertical-align: middle;\n    }\n\n    .dataframe tbody tr th {\n        vertical-align: top;\n    }\n\n    .dataframe thead th {\n        text-align: right;\n    }\n</style>\n<table border=\"1\" class=\"dataframe\">\n  <thead>\n    <tr style=\"text-align: right;\">\n      <th></th>\n      <th>Date</th>\n    </tr>\n  </thead>\n  <tbody>\n    <tr>\n      <th>0</th>\n      <td>2021-01-30 18:00:38</td>\n    </tr>\n    <tr>\n      <th>1</th>\n      <td>2021-01-28 13:40:34</td>\n    </tr>\n    <tr>\n      <th>2</th>\n      <td>2021-01-28 21:06:23</td>\n    </tr>\n    <tr>\n      <th>3</th>\n      <td>2021-01-29 21:04:45</td>\n    </tr>\n    <tr>\n      <th>4</th>\n      <td>2021-01-29 23:40:59</td>\n    </tr>\n    <tr>\n      <th>...</th>\n      <td>...</td>\n    </tr>\n    <tr>\n      <th>2821</th>\n      <td>2021-04-13 07:06:14</td>\n    </tr>\n    <tr>\n      <th>2822</th>\n      <td>2024-06-04 16:05:29</td>\n    </tr>\n    <tr>\n      <th>2823</th>\n      <td>2022-12-06 13:45:21</td>\n    </tr>\n    <tr>\n      <th>2824</th>\n      <td>2021-06-11 14:12:58</td>\n    </tr>\n    <tr>\n      <th>2825</th>\n      <td>2022-03-28 21:39:41</td>\n    </tr>\n  </tbody>\n</table>\n<p>2826 rows × 1 columns</p>\n</div>"
     },
     "execution_count": 5,
     "metadata": {},
     "output_type": "execute_result"
    }
   ],
   "source": [
    "df_dates"
   ],
   "metadata": {
    "collapsed": false,
    "ExecuteTime": {
     "end_time": "2024-12-08T15:17:41.465492Z",
     "start_time": "2024-12-08T15:17:41.456181Z"
    }
   },
   "id": "24f442602200db13",
   "execution_count": 5
  },
  {
   "cell_type": "markdown",
   "source": [
    "## Stock Movements"
   ],
   "metadata": {
    "collapsed": false
   },
   "id": "5458c3e65b89bebf"
  },
  {
   "cell_type": "code",
   "outputs": [
    {
     "data": {
      "text/plain": "            Date           Adj Close               Close                High  \\\n0            NaN                GOOG                GOOG                GOOG   \n1     2013-11-18  25.629505157470703  25.692447662353516  26.120594024658203   \n2     2013-11-19   25.47173500061035  25.534290313720703   25.77215003967285   \n3     2013-11-20  25.399932861328125  25.462310791015625  25.737529754638672   \n4     2013-11-21   25.69211769104004  25.755212783813477  25.860816955566406   \n...          ...                 ...                 ...                 ...   \n2775  2024-11-26   170.6199951171875   170.6199951171875   171.4949951171875   \n2776  2024-11-27  170.82000732421875  170.82000732421875  171.13999938964844   \n2777  2024-11-29  170.49000549316406  170.49000549316406   170.8699951171875   \n2778  2024-12-02  172.97999572753906  172.97999572753906  173.60000610351562   \n2779  2024-12-03  173.02000427246094  173.02000427246094  174.32000732421875   \n\n                     Low                Open    Volume  \n0                   GOOG                GOOG      GOOG  \n1      25.63491439819336  25.797056198120117  70651832  \n2     25.480741500854492  25.696683883666992  45433661  \n3     25.413742065429688  25.652597427368164  38692487  \n4     25.554216384887695   25.57912254333496  43835693  \n...                  ...                 ...       ...  \n2775  169.42999267578125  169.49000549316406  14937500  \n2776   169.6699981689453  170.67999267578125  12433400  \n2777              168.75  170.05999755859375   9250700  \n2778  170.27000427246094  170.32000732421875  16593400  \n2779  172.50999450683594   173.1199951171875  15721500  \n\n[2780 rows x 7 columns]",
      "text/html": "<div>\n<style scoped>\n    .dataframe tbody tr th:only-of-type {\n        vertical-align: middle;\n    }\n\n    .dataframe tbody tr th {\n        vertical-align: top;\n    }\n\n    .dataframe thead th {\n        text-align: right;\n    }\n</style>\n<table border=\"1\" class=\"dataframe\">\n  <thead>\n    <tr style=\"text-align: right;\">\n      <th></th>\n      <th>Date</th>\n      <th>Adj Close</th>\n      <th>Close</th>\n      <th>High</th>\n      <th>Low</th>\n      <th>Open</th>\n      <th>Volume</th>\n    </tr>\n  </thead>\n  <tbody>\n    <tr>\n      <th>0</th>\n      <td>NaN</td>\n      <td>GOOG</td>\n      <td>GOOG</td>\n      <td>GOOG</td>\n      <td>GOOG</td>\n      <td>GOOG</td>\n      <td>GOOG</td>\n    </tr>\n    <tr>\n      <th>1</th>\n      <td>2013-11-18</td>\n      <td>25.629505157470703</td>\n      <td>25.692447662353516</td>\n      <td>26.120594024658203</td>\n      <td>25.63491439819336</td>\n      <td>25.797056198120117</td>\n      <td>70651832</td>\n    </tr>\n    <tr>\n      <th>2</th>\n      <td>2013-11-19</td>\n      <td>25.47173500061035</td>\n      <td>25.534290313720703</td>\n      <td>25.77215003967285</td>\n      <td>25.480741500854492</td>\n      <td>25.696683883666992</td>\n      <td>45433661</td>\n    </tr>\n    <tr>\n      <th>3</th>\n      <td>2013-11-20</td>\n      <td>25.399932861328125</td>\n      <td>25.462310791015625</td>\n      <td>25.737529754638672</td>\n      <td>25.413742065429688</td>\n      <td>25.652597427368164</td>\n      <td>38692487</td>\n    </tr>\n    <tr>\n      <th>4</th>\n      <td>2013-11-21</td>\n      <td>25.69211769104004</td>\n      <td>25.755212783813477</td>\n      <td>25.860816955566406</td>\n      <td>25.554216384887695</td>\n      <td>25.57912254333496</td>\n      <td>43835693</td>\n    </tr>\n    <tr>\n      <th>...</th>\n      <td>...</td>\n      <td>...</td>\n      <td>...</td>\n      <td>...</td>\n      <td>...</td>\n      <td>...</td>\n      <td>...</td>\n    </tr>\n    <tr>\n      <th>2775</th>\n      <td>2024-11-26</td>\n      <td>170.6199951171875</td>\n      <td>170.6199951171875</td>\n      <td>171.4949951171875</td>\n      <td>169.42999267578125</td>\n      <td>169.49000549316406</td>\n      <td>14937500</td>\n    </tr>\n    <tr>\n      <th>2776</th>\n      <td>2024-11-27</td>\n      <td>170.82000732421875</td>\n      <td>170.82000732421875</td>\n      <td>171.13999938964844</td>\n      <td>169.6699981689453</td>\n      <td>170.67999267578125</td>\n      <td>12433400</td>\n    </tr>\n    <tr>\n      <th>2777</th>\n      <td>2024-11-29</td>\n      <td>170.49000549316406</td>\n      <td>170.49000549316406</td>\n      <td>170.8699951171875</td>\n      <td>168.75</td>\n      <td>170.05999755859375</td>\n      <td>9250700</td>\n    </tr>\n    <tr>\n      <th>2778</th>\n      <td>2024-12-02</td>\n      <td>172.97999572753906</td>\n      <td>172.97999572753906</td>\n      <td>173.60000610351562</td>\n      <td>170.27000427246094</td>\n      <td>170.32000732421875</td>\n      <td>16593400</td>\n    </tr>\n    <tr>\n      <th>2779</th>\n      <td>2024-12-03</td>\n      <td>173.02000427246094</td>\n      <td>173.02000427246094</td>\n      <td>174.32000732421875</td>\n      <td>172.50999450683594</td>\n      <td>173.1199951171875</td>\n      <td>15721500</td>\n    </tr>\n  </tbody>\n</table>\n<p>2780 rows × 7 columns</p>\n</div>"
     },
     "execution_count": 6,
     "metadata": {},
     "output_type": "execute_result"
    }
   ],
   "source": [
    "df_stock"
   ],
   "metadata": {
    "collapsed": false,
    "ExecuteTime": {
     "end_time": "2024-12-08T15:17:42.402987Z",
     "start_time": "2024-12-08T15:17:42.390678Z"
    }
   },
   "id": "cee8aeaad37cd45a",
   "execution_count": 6
  },
  {
   "cell_type": "markdown",
   "source": [
    "## Merge Headlines and Dates Dataframe"
   ],
   "metadata": {
    "collapsed": false
   },
   "id": "14ca26e070f5235c"
  },
  {
   "cell_type": "code",
   "outputs": [
    {
     "data": {
      "text/plain": "                                              headlines                 Date\n0                                Times Square right now  2021-01-30 18:00:38\n1                UPVOTE so everyone sees we got SUPPORT  2021-01-28 13:40:34\n2                         GME YOLO update — Jan 28 2021  2021-01-28 21:06:23\n3                  GME YOLO month-end update — Jan 2021  2021-01-29 21:04:45\n4                                     It’s treason then  2021-01-29 23:40:59\n...                                                 ...                  ...\n2821                           Good way to start a week  2021-04-13 07:06:14\n2822                                    Well, shit.....  2024-06-04 16:05:29\n2823  Jim Cramer urges investors to exit crypto, say...  2022-12-06 13:45:21\n2824  Third member of prestigious FDA panel resigns ...  2021-06-11 14:12:58\n2825               Goldman Sachs Top Retail Stock Picks  2022-03-28 21:39:41\n\n[2826 rows x 2 columns]",
      "text/html": "<div>\n<style scoped>\n    .dataframe tbody tr th:only-of-type {\n        vertical-align: middle;\n    }\n\n    .dataframe tbody tr th {\n        vertical-align: top;\n    }\n\n    .dataframe thead th {\n        text-align: right;\n    }\n</style>\n<table border=\"1\" class=\"dataframe\">\n  <thead>\n    <tr style=\"text-align: right;\">\n      <th></th>\n      <th>headlines</th>\n      <th>Date</th>\n    </tr>\n  </thead>\n  <tbody>\n    <tr>\n      <th>0</th>\n      <td>Times Square right now</td>\n      <td>2021-01-30 18:00:38</td>\n    </tr>\n    <tr>\n      <th>1</th>\n      <td>UPVOTE so everyone sees we got SUPPORT</td>\n      <td>2021-01-28 13:40:34</td>\n    </tr>\n    <tr>\n      <th>2</th>\n      <td>GME YOLO update — Jan 28 2021</td>\n      <td>2021-01-28 21:06:23</td>\n    </tr>\n    <tr>\n      <th>3</th>\n      <td>GME YOLO month-end update — Jan 2021</td>\n      <td>2021-01-29 21:04:45</td>\n    </tr>\n    <tr>\n      <th>4</th>\n      <td>It’s treason then</td>\n      <td>2021-01-29 23:40:59</td>\n    </tr>\n    <tr>\n      <th>...</th>\n      <td>...</td>\n      <td>...</td>\n    </tr>\n    <tr>\n      <th>2821</th>\n      <td>Good way to start a week</td>\n      <td>2021-04-13 07:06:14</td>\n    </tr>\n    <tr>\n      <th>2822</th>\n      <td>Well, shit.....</td>\n      <td>2024-06-04 16:05:29</td>\n    </tr>\n    <tr>\n      <th>2823</th>\n      <td>Jim Cramer urges investors to exit crypto, say...</td>\n      <td>2022-12-06 13:45:21</td>\n    </tr>\n    <tr>\n      <th>2824</th>\n      <td>Third member of prestigious FDA panel resigns ...</td>\n      <td>2021-06-11 14:12:58</td>\n    </tr>\n    <tr>\n      <th>2825</th>\n      <td>Goldman Sachs Top Retail Stock Picks</td>\n      <td>2022-03-28 21:39:41</td>\n    </tr>\n  </tbody>\n</table>\n<p>2826 rows × 2 columns</p>\n</div>"
     },
     "execution_count": 7,
     "metadata": {},
     "output_type": "execute_result"
    }
   ],
   "source": [
    "df_subreddit = pd.concat([df_headlines, df_dates], axis=1)\n",
    "df_subreddit"
   ],
   "metadata": {
    "collapsed": false,
    "ExecuteTime": {
     "end_time": "2024-12-08T15:18:25.225604Z",
     "start_time": "2024-12-08T15:18:25.213741Z"
    }
   },
   "id": "ea501ed7f950c857",
   "execution_count": 7
  },
  {
   "cell_type": "markdown",
   "source": [
    "## Checking Null Values"
   ],
   "metadata": {
    "collapsed": false
   },
   "id": "baf70267ea7eb2f8"
  },
  {
   "cell_type": "code",
   "outputs": [
    {
     "data": {
      "text/plain": "Date         1\nAdj Close    0\nClose        0\nHigh         0\nLow          0\nOpen         0\nVolume       0\ndtype: int64"
     },
     "execution_count": 13,
     "metadata": {},
     "output_type": "execute_result"
    }
   ],
   "source": [
    "df_stock.isnull().sum()"
   ],
   "metadata": {
    "collapsed": false,
    "ExecuteTime": {
     "end_time": "2024-12-08T15:21:28.143692Z",
     "start_time": "2024-12-08T15:21:28.133430Z"
    }
   },
   "id": "9a9a51fb69a28a6b",
   "execution_count": 13
  },
  {
   "cell_type": "code",
   "outputs": [
    {
     "data": {
      "text/plain": "Date         0\nAdj Close    0\nClose        0\nHigh         0\nLow          0\nOpen         0\nVolume       0\ndtype: int64"
     },
     "execution_count": 15,
     "metadata": {},
     "output_type": "execute_result"
    }
   ],
   "source": [
    "df_stock.dropna(axis=0, how='any', inplace=True)\n",
    "df_stock.isnull().sum()"
   ],
   "metadata": {
    "collapsed": false,
    "ExecuteTime": {
     "end_time": "2024-12-08T15:22:58.303334Z",
     "start_time": "2024-12-08T15:22:58.291554Z"
    }
   },
   "id": "61dc6066c52de9c7",
   "execution_count": 15
  },
  {
   "cell_type": "code",
   "outputs": [
    {
     "data": {
      "text/plain": "headlines    0\nDate         0\ndtype: int64"
     },
     "execution_count": 14,
     "metadata": {},
     "output_type": "execute_result"
    }
   ],
   "source": [
    "df_subreddit.isnull().sum()"
   ],
   "metadata": {
    "collapsed": false,
    "ExecuteTime": {
     "end_time": "2024-12-08T15:21:42.659990Z",
     "start_time": "2024-12-08T15:21:42.649990Z"
    }
   },
   "id": "f411d78208624e8",
   "execution_count": 14
  },
  {
   "cell_type": "markdown",
   "source": [
    "## Checking Date Discrepancy"
   ],
   "metadata": {
    "collapsed": false
   },
   "id": "9694a24e7ab0f372"
  },
  {
   "cell_type": "code",
   "outputs": [
    {
     "name": "stdout",
     "output_type": "stream",
     "text": [
      "2013-11-18 02:09:07\n",
      "2024-12-04 22:48:02\n"
     ]
    }
   ],
   "source": [
    "print(df_subreddit['Date'].min())\n",
    "print(df_subreddit['Date'].max())"
   ],
   "metadata": {
    "collapsed": true,
    "ExecuteTime": {
     "end_time": "2024-12-08T15:19:28.264996Z",
     "start_time": "2024-12-08T15:19:28.255847Z"
    }
   },
   "id": "initial_id",
   "execution_count": 9
  },
  {
   "cell_type": "code",
   "outputs": [
    {
     "name": "stdout",
     "output_type": "stream",
     "text": [
      "2013-11-18\n",
      "2024-12-03\n"
     ]
    }
   ],
   "source": [
    "print(df_stock['Date'].min())\n",
    "print(df_stock['Date'].max())"
   ],
   "metadata": {
    "collapsed": false,
    "ExecuteTime": {
     "end_time": "2024-12-08T15:23:05.159166Z",
     "start_time": "2024-12-08T15:23:05.153631Z"
    }
   },
   "id": "edfa0486334778e3",
   "execution_count": 16
  },
  {
   "cell_type": "code",
   "outputs": [
    {
     "data": {
      "text/plain": "                                              headlines                 Date\n0                                Times Square right now  2021-01-30 18:00:38\n1                UPVOTE so everyone sees we got SUPPORT  2021-01-28 13:40:34\n2                         GME YOLO update — Jan 28 2021  2021-01-28 21:06:23\n3                  GME YOLO month-end update — Jan 2021  2021-01-29 21:04:45\n4                                     It’s treason then  2021-01-29 23:40:59\n...                                                 ...                  ...\n2821                           Good way to start a week  2021-04-13 07:06:14\n2822                                    Well, shit.....  2024-06-04 16:05:29\n2823  Jim Cramer urges investors to exit crypto, say...  2022-12-06 13:45:21\n2824  Third member of prestigious FDA panel resigns ...  2021-06-11 14:12:58\n2825               Goldman Sachs Top Retail Stock Picks  2022-03-28 21:39:41\n\n[2824 rows x 2 columns]",
      "text/html": "<div>\n<style scoped>\n    .dataframe tbody tr th:only-of-type {\n        vertical-align: middle;\n    }\n\n    .dataframe tbody tr th {\n        vertical-align: top;\n    }\n\n    .dataframe thead th {\n        text-align: right;\n    }\n</style>\n<table border=\"1\" class=\"dataframe\">\n  <thead>\n    <tr style=\"text-align: right;\">\n      <th></th>\n      <th>headlines</th>\n      <th>Date</th>\n    </tr>\n  </thead>\n  <tbody>\n    <tr>\n      <th>0</th>\n      <td>Times Square right now</td>\n      <td>2021-01-30 18:00:38</td>\n    </tr>\n    <tr>\n      <th>1</th>\n      <td>UPVOTE so everyone sees we got SUPPORT</td>\n      <td>2021-01-28 13:40:34</td>\n    </tr>\n    <tr>\n      <th>2</th>\n      <td>GME YOLO update — Jan 28 2021</td>\n      <td>2021-01-28 21:06:23</td>\n    </tr>\n    <tr>\n      <th>3</th>\n      <td>GME YOLO month-end update — Jan 2021</td>\n      <td>2021-01-29 21:04:45</td>\n    </tr>\n    <tr>\n      <th>4</th>\n      <td>It’s treason then</td>\n      <td>2021-01-29 23:40:59</td>\n    </tr>\n    <tr>\n      <th>...</th>\n      <td>...</td>\n      <td>...</td>\n    </tr>\n    <tr>\n      <th>2821</th>\n      <td>Good way to start a week</td>\n      <td>2021-04-13 07:06:14</td>\n    </tr>\n    <tr>\n      <th>2822</th>\n      <td>Well, shit.....</td>\n      <td>2024-06-04 16:05:29</td>\n    </tr>\n    <tr>\n      <th>2823</th>\n      <td>Jim Cramer urges investors to exit crypto, say...</td>\n      <td>2022-12-06 13:45:21</td>\n    </tr>\n    <tr>\n      <th>2824</th>\n      <td>Third member of prestigious FDA panel resigns ...</td>\n      <td>2021-06-11 14:12:58</td>\n    </tr>\n    <tr>\n      <th>2825</th>\n      <td>Goldman Sachs Top Retail Stock Picks</td>\n      <td>2022-03-28 21:39:41</td>\n    </tr>\n  </tbody>\n</table>\n<p>2824 rows × 2 columns</p>\n</div>"
     },
     "execution_count": 17,
     "metadata": {},
     "output_type": "execute_result"
    }
   ],
   "source": [
    "remove_unmatched_data = df_subreddit[df_subreddit['Date'] > '2024-12-03'].index\n",
    "df_subreddit.drop(remove_unmatched_data,inplace=True)\n",
    "df_subreddit"
   ],
   "metadata": {
    "collapsed": false,
    "ExecuteTime": {
     "end_time": "2024-12-08T15:23:58.455412Z",
     "start_time": "2024-12-08T15:23:58.440974Z"
    }
   },
   "id": "23a03f7584a982b9",
   "execution_count": 17
  },
  {
   "cell_type": "code",
   "outputs": [
    {
     "name": "stdout",
     "output_type": "stream",
     "text": [
      "2013-11-18 02:09:07\n",
      "2024-12-02 17:52:54\n"
     ]
    }
   ],
   "source": [
    "print(df_subreddit['Date'].min())\n",
    "print(df_subreddit['Date'].max())"
   ],
   "metadata": {
    "collapsed": false,
    "ExecuteTime": {
     "end_time": "2024-12-08T15:24:17.848228Z",
     "start_time": "2024-12-08T15:24:17.842347Z"
    }
   },
   "id": "daeba52d793a4610",
   "execution_count": 18
  },
  {
   "cell_type": "markdown",
   "source": [
    "## Removing Timestamps"
   ],
   "metadata": {
    "collapsed": false
   },
   "id": "9a656eaf2cadd1a"
  },
  {
   "cell_type": "code",
   "outputs": [],
   "source": [
    "df_subreddit['Date'] = pd.to_datetime(df_subreddit['Date'])\n",
    "df_stock['Date'] = pd.to_datetime(df_stock['Date'])"
   ],
   "metadata": {
    "collapsed": false,
    "ExecuteTime": {
     "end_time": "2024-12-08T15:26:15.984111Z",
     "start_time": "2024-12-08T15:26:15.969334Z"
    }
   },
   "id": "bf620c4404a64613",
   "execution_count": 20
  },
  {
   "cell_type": "code",
   "outputs": [
    {
     "data": {
      "text/plain": "                                              headlines        Date\n0                                Times Square right now  2021-01-30\n1                UPVOTE so everyone sees we got SUPPORT  2021-01-28\n2                         GME YOLO update — Jan 28 2021  2021-01-28\n3                  GME YOLO month-end update — Jan 2021  2021-01-29\n4                                     It’s treason then  2021-01-29\n...                                                 ...         ...\n2821                           Good way to start a week  2021-04-13\n2822                                    Well, shit.....  2024-06-04\n2823  Jim Cramer urges investors to exit crypto, say...  2022-12-06\n2824  Third member of prestigious FDA panel resigns ...  2021-06-11\n2825               Goldman Sachs Top Retail Stock Picks  2022-03-28\n\n[2824 rows x 2 columns]",
      "text/html": "<div>\n<style scoped>\n    .dataframe tbody tr th:only-of-type {\n        vertical-align: middle;\n    }\n\n    .dataframe tbody tr th {\n        vertical-align: top;\n    }\n\n    .dataframe thead th {\n        text-align: right;\n    }\n</style>\n<table border=\"1\" class=\"dataframe\">\n  <thead>\n    <tr style=\"text-align: right;\">\n      <th></th>\n      <th>headlines</th>\n      <th>Date</th>\n    </tr>\n  </thead>\n  <tbody>\n    <tr>\n      <th>0</th>\n      <td>Times Square right now</td>\n      <td>2021-01-30</td>\n    </tr>\n    <tr>\n      <th>1</th>\n      <td>UPVOTE so everyone sees we got SUPPORT</td>\n      <td>2021-01-28</td>\n    </tr>\n    <tr>\n      <th>2</th>\n      <td>GME YOLO update — Jan 28 2021</td>\n      <td>2021-01-28</td>\n    </tr>\n    <tr>\n      <th>3</th>\n      <td>GME YOLO month-end update — Jan 2021</td>\n      <td>2021-01-29</td>\n    </tr>\n    <tr>\n      <th>4</th>\n      <td>It’s treason then</td>\n      <td>2021-01-29</td>\n    </tr>\n    <tr>\n      <th>...</th>\n      <td>...</td>\n      <td>...</td>\n    </tr>\n    <tr>\n      <th>2821</th>\n      <td>Good way to start a week</td>\n      <td>2021-04-13</td>\n    </tr>\n    <tr>\n      <th>2822</th>\n      <td>Well, shit.....</td>\n      <td>2024-06-04</td>\n    </tr>\n    <tr>\n      <th>2823</th>\n      <td>Jim Cramer urges investors to exit crypto, say...</td>\n      <td>2022-12-06</td>\n    </tr>\n    <tr>\n      <th>2824</th>\n      <td>Third member of prestigious FDA panel resigns ...</td>\n      <td>2021-06-11</td>\n    </tr>\n    <tr>\n      <th>2825</th>\n      <td>Goldman Sachs Top Retail Stock Picks</td>\n      <td>2022-03-28</td>\n    </tr>\n  </tbody>\n</table>\n<p>2824 rows × 2 columns</p>\n</div>"
     },
     "execution_count": 21,
     "metadata": {},
     "output_type": "execute_result"
    }
   ],
   "source": [
    "df_subreddit['Date'] = df_subreddit['Date'].dt.date\n",
    "df_stock['Date'] = df_stock['Date'].dt.date\n",
    "df_subreddit"
   ],
   "metadata": {
    "collapsed": false,
    "ExecuteTime": {
     "end_time": "2024-12-08T15:26:18.637622Z",
     "start_time": "2024-12-08T15:26:18.624696Z"
    }
   },
   "id": "ff2f440b2c98e1da",
   "execution_count": 21
  },
  {
   "cell_type": "code",
   "outputs": [
    {
     "data": {
      "text/plain": "            Date           Adj Close               Close                High  \\\n1     2013-11-18  25.629505157470703  25.692447662353516  26.120594024658203   \n2     2013-11-19   25.47173500061035  25.534290313720703   25.77215003967285   \n3     2013-11-20  25.399932861328125  25.462310791015625  25.737529754638672   \n4     2013-11-21   25.69211769104004  25.755212783813477  25.860816955566406   \n5     2013-11-22  25.637954711914062  25.700916290283203   25.80751609802246   \n...          ...                 ...                 ...                 ...   \n2775  2024-11-26   170.6199951171875   170.6199951171875   171.4949951171875   \n2776  2024-11-27  170.82000732421875  170.82000732421875  171.13999938964844   \n2777  2024-11-29  170.49000549316406  170.49000549316406   170.8699951171875   \n2778  2024-12-02  172.97999572753906  172.97999572753906  173.60000610351562   \n2779  2024-12-03  173.02000427246094  173.02000427246094  174.32000732421875   \n\n                     Low                Open    Volume  \n1      25.63491439819336  25.797056198120117  70651832  \n2     25.480741500854492  25.696683883666992  45433661  \n3     25.413742065429688  25.652597427368164  38692487  \n4     25.554216384887695   25.57912254333496  43835693  \n5     25.634416580200195  25.739023208618164  50356042  \n...                  ...                 ...       ...  \n2775  169.42999267578125  169.49000549316406  14937500  \n2776   169.6699981689453  170.67999267578125  12433400  \n2777              168.75  170.05999755859375   9250700  \n2778  170.27000427246094  170.32000732421875  16593400  \n2779  172.50999450683594   173.1199951171875  15721500  \n\n[2779 rows x 7 columns]",
      "text/html": "<div>\n<style scoped>\n    .dataframe tbody tr th:only-of-type {\n        vertical-align: middle;\n    }\n\n    .dataframe tbody tr th {\n        vertical-align: top;\n    }\n\n    .dataframe thead th {\n        text-align: right;\n    }\n</style>\n<table border=\"1\" class=\"dataframe\">\n  <thead>\n    <tr style=\"text-align: right;\">\n      <th></th>\n      <th>Date</th>\n      <th>Adj Close</th>\n      <th>Close</th>\n      <th>High</th>\n      <th>Low</th>\n      <th>Open</th>\n      <th>Volume</th>\n    </tr>\n  </thead>\n  <tbody>\n    <tr>\n      <th>1</th>\n      <td>2013-11-18</td>\n      <td>25.629505157470703</td>\n      <td>25.692447662353516</td>\n      <td>26.120594024658203</td>\n      <td>25.63491439819336</td>\n      <td>25.797056198120117</td>\n      <td>70651832</td>\n    </tr>\n    <tr>\n      <th>2</th>\n      <td>2013-11-19</td>\n      <td>25.47173500061035</td>\n      <td>25.534290313720703</td>\n      <td>25.77215003967285</td>\n      <td>25.480741500854492</td>\n      <td>25.696683883666992</td>\n      <td>45433661</td>\n    </tr>\n    <tr>\n      <th>3</th>\n      <td>2013-11-20</td>\n      <td>25.399932861328125</td>\n      <td>25.462310791015625</td>\n      <td>25.737529754638672</td>\n      <td>25.413742065429688</td>\n      <td>25.652597427368164</td>\n      <td>38692487</td>\n    </tr>\n    <tr>\n      <th>4</th>\n      <td>2013-11-21</td>\n      <td>25.69211769104004</td>\n      <td>25.755212783813477</td>\n      <td>25.860816955566406</td>\n      <td>25.554216384887695</td>\n      <td>25.57912254333496</td>\n      <td>43835693</td>\n    </tr>\n    <tr>\n      <th>5</th>\n      <td>2013-11-22</td>\n      <td>25.637954711914062</td>\n      <td>25.700916290283203</td>\n      <td>25.80751609802246</td>\n      <td>25.634416580200195</td>\n      <td>25.739023208618164</td>\n      <td>50356042</td>\n    </tr>\n    <tr>\n      <th>...</th>\n      <td>...</td>\n      <td>...</td>\n      <td>...</td>\n      <td>...</td>\n      <td>...</td>\n      <td>...</td>\n      <td>...</td>\n    </tr>\n    <tr>\n      <th>2775</th>\n      <td>2024-11-26</td>\n      <td>170.6199951171875</td>\n      <td>170.6199951171875</td>\n      <td>171.4949951171875</td>\n      <td>169.42999267578125</td>\n      <td>169.49000549316406</td>\n      <td>14937500</td>\n    </tr>\n    <tr>\n      <th>2776</th>\n      <td>2024-11-27</td>\n      <td>170.82000732421875</td>\n      <td>170.82000732421875</td>\n      <td>171.13999938964844</td>\n      <td>169.6699981689453</td>\n      <td>170.67999267578125</td>\n      <td>12433400</td>\n    </tr>\n    <tr>\n      <th>2777</th>\n      <td>2024-11-29</td>\n      <td>170.49000549316406</td>\n      <td>170.49000549316406</td>\n      <td>170.8699951171875</td>\n      <td>168.75</td>\n      <td>170.05999755859375</td>\n      <td>9250700</td>\n    </tr>\n    <tr>\n      <th>2778</th>\n      <td>2024-12-02</td>\n      <td>172.97999572753906</td>\n      <td>172.97999572753906</td>\n      <td>173.60000610351562</td>\n      <td>170.27000427246094</td>\n      <td>170.32000732421875</td>\n      <td>16593400</td>\n    </tr>\n    <tr>\n      <th>2779</th>\n      <td>2024-12-03</td>\n      <td>173.02000427246094</td>\n      <td>173.02000427246094</td>\n      <td>174.32000732421875</td>\n      <td>172.50999450683594</td>\n      <td>173.1199951171875</td>\n      <td>15721500</td>\n    </tr>\n  </tbody>\n</table>\n<p>2779 rows × 7 columns</p>\n</div>"
     },
     "execution_count": 22,
     "metadata": {},
     "output_type": "execute_result"
    }
   ],
   "source": [
    "df_stock"
   ],
   "metadata": {
    "collapsed": false,
    "ExecuteTime": {
     "end_time": "2024-12-08T15:26:26.011753Z",
     "start_time": "2024-12-08T15:26:25.998796Z"
    }
   },
   "id": "c74e7ad626cd3d7a",
   "execution_count": 22
  },
  {
   "cell_type": "code",
   "outputs": [
    {
     "name": "stdout",
     "output_type": "stream",
     "text": [
      "<class 'pandas.core.frame.DataFrame'>\n",
      "Index: 2824 entries, 0 to 2825\n",
      "Data columns (total 2 columns):\n",
      " #   Column     Non-Null Count  Dtype \n",
      "---  ------     --------------  ----- \n",
      " 0   headlines  2824 non-null   object\n",
      " 1   Date       2824 non-null   object\n",
      "dtypes: object(2)\n",
      "memory usage: 66.2+ KB\n"
     ]
    }
   ],
   "source": [
    "df_subreddit.info()"
   ],
   "metadata": {
    "collapsed": false,
    "ExecuteTime": {
     "end_time": "2024-12-08T15:26:35.097121Z",
     "start_time": "2024-12-08T15:26:35.084458Z"
    }
   },
   "id": "72d255ed35b8a17b",
   "execution_count": 23
  },
  {
   "cell_type": "code",
   "outputs": [
    {
     "name": "stdout",
     "output_type": "stream",
     "text": [
      "<class 'pandas.core.frame.DataFrame'>\n",
      "Index: 2779 entries, 1 to 2779\n",
      "Data columns (total 7 columns):\n",
      " #   Column     Non-Null Count  Dtype \n",
      "---  ------     --------------  ----- \n",
      " 0   Date       2779 non-null   object\n",
      " 1   Adj Close  2779 non-null   object\n",
      " 2   Close      2779 non-null   object\n",
      " 3   High       2779 non-null   object\n",
      " 4   Low        2779 non-null   object\n",
      " 5   Open       2779 non-null   object\n",
      " 6   Volume     2779 non-null   object\n",
      "dtypes: object(7)\n",
      "memory usage: 173.7+ KB\n"
     ]
    }
   ],
   "source": [
    "df_stock.info()"
   ],
   "metadata": {
    "collapsed": false,
    "ExecuteTime": {
     "end_time": "2024-12-08T15:26:46.255772Z",
     "start_time": "2024-12-08T15:26:46.246488Z"
    }
   },
   "id": "537a676b2b939be6",
   "execution_count": 24
  },
  {
   "cell_type": "markdown",
   "source": [
    "## Convert Dates to datetime64"
   ],
   "metadata": {
    "collapsed": false
   },
   "id": "648f9ea007dc96b2"
  },
  {
   "cell_type": "code",
   "outputs": [],
   "source": [
    "df_subreddit['Date'] = pd.to_datetime(df_subreddit['Date'])\n",
    "df_stock['Date'] = pd.to_datetime(df_stock['Date'])"
   ],
   "metadata": {
    "collapsed": false,
    "ExecuteTime": {
     "end_time": "2024-12-08T15:27:15.521064Z",
     "start_time": "2024-12-08T15:27:15.513199Z"
    }
   },
   "id": "5767c3960471537a",
   "execution_count": 25
  },
  {
   "cell_type": "code",
   "outputs": [
    {
     "name": "stdout",
     "output_type": "stream",
     "text": [
      "<class 'pandas.core.frame.DataFrame'>\n",
      "Index: 2824 entries, 0 to 2825\n",
      "Data columns (total 2 columns):\n",
      " #   Column     Non-Null Count  Dtype         \n",
      "---  ------     --------------  -----         \n",
      " 0   headlines  2824 non-null   object        \n",
      " 1   Date       2824 non-null   datetime64[ns]\n",
      "dtypes: datetime64[ns](1), object(1)\n",
      "memory usage: 66.2+ KB\n"
     ]
    }
   ],
   "source": [
    "df_subreddit.info()"
   ],
   "metadata": {
    "collapsed": false,
    "ExecuteTime": {
     "end_time": "2024-12-08T15:27:27.310251Z",
     "start_time": "2024-12-08T15:27:27.300154Z"
    }
   },
   "id": "9e95a5ccb87cbded",
   "execution_count": 26
  },
  {
   "cell_type": "code",
   "outputs": [
    {
     "name": "stdout",
     "output_type": "stream",
     "text": [
      "<class 'pandas.core.frame.DataFrame'>\n",
      "Index: 2779 entries, 1 to 2779\n",
      "Data columns (total 7 columns):\n",
      " #   Column     Non-Null Count  Dtype         \n",
      "---  ------     --------------  -----         \n",
      " 0   Date       2779 non-null   datetime64[ns]\n",
      " 1   Adj Close  2779 non-null   object        \n",
      " 2   Close      2779 non-null   object        \n",
      " 3   High       2779 non-null   object        \n",
      " 4   Low        2779 non-null   object        \n",
      " 5   Open       2779 non-null   object        \n",
      " 6   Volume     2779 non-null   object        \n",
      "dtypes: datetime64[ns](1), object(6)\n",
      "memory usage: 173.7+ KB\n"
     ]
    }
   ],
   "source": [
    "df_stock.info()"
   ],
   "metadata": {
    "collapsed": false,
    "ExecuteTime": {
     "end_time": "2024-12-08T15:27:35.017583Z",
     "start_time": "2024-12-08T15:27:35.007283Z"
    }
   },
   "id": "b213a5780049f2ab",
   "execution_count": 27
  },
  {
   "cell_type": "markdown",
   "source": [
    "## Merging Subreddit Data and Stock Movements"
   ],
   "metadata": {
    "collapsed": false
   },
   "id": "fa38463d67b3fe5e"
  },
  {
   "cell_type": "code",
   "outputs": [],
   "source": [
    "merged_data = pd.merge(df_subreddit, df_stock, on='Date', how='inner')"
   ],
   "metadata": {
    "collapsed": false,
    "ExecuteTime": {
     "end_time": "2024-12-08T15:32:00.851466Z",
     "start_time": "2024-12-08T15:32:00.842469Z"
    }
   },
   "id": "3b2e4d624ad1fdae",
   "execution_count": 28
  },
  {
   "cell_type": "code",
   "outputs": [
    {
     "data": {
      "text/plain": "headlines    0\nDate         0\nAdj Close    0\nClose        0\nHigh         0\nLow          0\nOpen         0\nVolume       0\ndtype: int64"
     },
     "execution_count": 30,
     "metadata": {},
     "output_type": "execute_result"
    }
   ],
   "source": [
    "merged_data.isnull().sum()"
   ],
   "metadata": {
    "collapsed": false,
    "ExecuteTime": {
     "end_time": "2024-12-08T15:33:46.745974Z",
     "start_time": "2024-12-08T15:33:46.736483Z"
    }
   },
   "id": "72fc850e05235f9c",
   "execution_count": 30
  },
  {
   "cell_type": "markdown",
   "source": [
    "## Creating Final Dataset"
   ],
   "metadata": {
    "collapsed": false
   },
   "id": "1e74637e088f9954"
  },
  {
   "cell_type": "code",
   "outputs": [
    {
     "data": {
      "text/plain": "                                              headlines       Date  \\\n0                UPVOTE so everyone sees we got SUPPORT 2021-01-28   \n1                         GME YOLO update — Jan 28 2021 2021-01-28   \n2                  GME YOLO month-end update — Jan 2021 2021-01-29   \n3                                     It’s treason then 2021-01-29   \n4     CLASS ACTION AGAINST ROBINHOOD. Allowing peopl... 2021-01-28   \n...                                                 ...        ...   \n2149                           Good way to start a week 2021-04-13   \n2150                                    Well, shit..... 2024-06-04   \n2151  Jim Cramer urges investors to exit crypto, say... 2022-12-06   \n2152  Third member of prestigious FDA panel resigns ... 2021-06-11   \n2153               Goldman Sachs Top Retail Stock Picks 2022-03-28   \n\n               Adj Close               Close                High  \\\n0      92.92729187011719   93.15550231933594   94.94149780273438   \n1      92.92729187011719   93.15550231933594   94.94149780273438   \n2      91.56214141845703   91.78700256347656   92.86399841308594   \n3      91.56214141845703   91.78700256347656   92.86399841308594   \n4      92.92729187011719   93.15550231933594   94.94149780273438   \n...                  ...                 ...                 ...   \n2149  113.08578491210938   113.3635025024414   113.8604965209961   \n2150  174.70095825195312   175.1300048828125  175.19000244140625   \n2151   97.07160186767578   97.30999755859375  100.20999908447266   \n2152   125.3885726928711  125.69650268554688  126.34950256347656   \n2153   141.6022491455078   141.9499969482422  141.97650146484375   \n\n                     Low                Open    Volume  \n0      92.13200378417969    92.1969985961914  35462000  \n1      92.13200378417969    92.1969985961914  35462000  \n2      90.51000213623047   92.30850219726562  32252000  \n3      90.51000213623047   92.30850219726562  32252000  \n4      92.13200378417969    92.1969985961914  35462000  \n...                  ...                 ...       ...  \n2149  112.80449676513672  113.07350158691406  23310000  \n2150  173.22000122070312   174.4499969482422  14066600  \n2151   96.76000213623047   99.66999816894531  20877600  \n2152  124.91449737548828  126.24600219726562  25240000  \n2153  139.82815551757812   140.6844940185547  23774000  \n\n[2154 rows x 8 columns]",
      "text/html": "<div>\n<style scoped>\n    .dataframe tbody tr th:only-of-type {\n        vertical-align: middle;\n    }\n\n    .dataframe tbody tr th {\n        vertical-align: top;\n    }\n\n    .dataframe thead th {\n        text-align: right;\n    }\n</style>\n<table border=\"1\" class=\"dataframe\">\n  <thead>\n    <tr style=\"text-align: right;\">\n      <th></th>\n      <th>headlines</th>\n      <th>Date</th>\n      <th>Adj Close</th>\n      <th>Close</th>\n      <th>High</th>\n      <th>Low</th>\n      <th>Open</th>\n      <th>Volume</th>\n    </tr>\n  </thead>\n  <tbody>\n    <tr>\n      <th>0</th>\n      <td>UPVOTE so everyone sees we got SUPPORT</td>\n      <td>2021-01-28</td>\n      <td>92.92729187011719</td>\n      <td>93.15550231933594</td>\n      <td>94.94149780273438</td>\n      <td>92.13200378417969</td>\n      <td>92.1969985961914</td>\n      <td>35462000</td>\n    </tr>\n    <tr>\n      <th>1</th>\n      <td>GME YOLO update — Jan 28 2021</td>\n      <td>2021-01-28</td>\n      <td>92.92729187011719</td>\n      <td>93.15550231933594</td>\n      <td>94.94149780273438</td>\n      <td>92.13200378417969</td>\n      <td>92.1969985961914</td>\n      <td>35462000</td>\n    </tr>\n    <tr>\n      <th>2</th>\n      <td>GME YOLO month-end update — Jan 2021</td>\n      <td>2021-01-29</td>\n      <td>91.56214141845703</td>\n      <td>91.78700256347656</td>\n      <td>92.86399841308594</td>\n      <td>90.51000213623047</td>\n      <td>92.30850219726562</td>\n      <td>32252000</td>\n    </tr>\n    <tr>\n      <th>3</th>\n      <td>It’s treason then</td>\n      <td>2021-01-29</td>\n      <td>91.56214141845703</td>\n      <td>91.78700256347656</td>\n      <td>92.86399841308594</td>\n      <td>90.51000213623047</td>\n      <td>92.30850219726562</td>\n      <td>32252000</td>\n    </tr>\n    <tr>\n      <th>4</th>\n      <td>CLASS ACTION AGAINST ROBINHOOD. Allowing peopl...</td>\n      <td>2021-01-28</td>\n      <td>92.92729187011719</td>\n      <td>93.15550231933594</td>\n      <td>94.94149780273438</td>\n      <td>92.13200378417969</td>\n      <td>92.1969985961914</td>\n      <td>35462000</td>\n    </tr>\n    <tr>\n      <th>...</th>\n      <td>...</td>\n      <td>...</td>\n      <td>...</td>\n      <td>...</td>\n      <td>...</td>\n      <td>...</td>\n      <td>...</td>\n      <td>...</td>\n    </tr>\n    <tr>\n      <th>2149</th>\n      <td>Good way to start a week</td>\n      <td>2021-04-13</td>\n      <td>113.08578491210938</td>\n      <td>113.3635025024414</td>\n      <td>113.8604965209961</td>\n      <td>112.80449676513672</td>\n      <td>113.07350158691406</td>\n      <td>23310000</td>\n    </tr>\n    <tr>\n      <th>2150</th>\n      <td>Well, shit.....</td>\n      <td>2024-06-04</td>\n      <td>174.70095825195312</td>\n      <td>175.1300048828125</td>\n      <td>175.19000244140625</td>\n      <td>173.22000122070312</td>\n      <td>174.4499969482422</td>\n      <td>14066600</td>\n    </tr>\n    <tr>\n      <th>2151</th>\n      <td>Jim Cramer urges investors to exit crypto, say...</td>\n      <td>2022-12-06</td>\n      <td>97.07160186767578</td>\n      <td>97.30999755859375</td>\n      <td>100.20999908447266</td>\n      <td>96.76000213623047</td>\n      <td>99.66999816894531</td>\n      <td>20877600</td>\n    </tr>\n    <tr>\n      <th>2152</th>\n      <td>Third member of prestigious FDA panel resigns ...</td>\n      <td>2021-06-11</td>\n      <td>125.3885726928711</td>\n      <td>125.69650268554688</td>\n      <td>126.34950256347656</td>\n      <td>124.91449737548828</td>\n      <td>126.24600219726562</td>\n      <td>25240000</td>\n    </tr>\n    <tr>\n      <th>2153</th>\n      <td>Goldman Sachs Top Retail Stock Picks</td>\n      <td>2022-03-28</td>\n      <td>141.6022491455078</td>\n      <td>141.9499969482422</td>\n      <td>141.97650146484375</td>\n      <td>139.82815551757812</td>\n      <td>140.6844940185547</td>\n      <td>23774000</td>\n    </tr>\n  </tbody>\n</table>\n<p>2154 rows × 8 columns</p>\n</div>"
     },
     "execution_count": 33,
     "metadata": {},
     "output_type": "execute_result"
    }
   ],
   "source": [
    "merged_data.to_csv('Final Dataset.csv',index=False,encoding='utf-8')\n",
    "merged_data"
   ],
   "metadata": {
    "collapsed": false,
    "ExecuteTime": {
     "end_time": "2024-12-08T15:42:47.524912Z",
     "start_time": "2024-12-08T15:42:47.497433Z"
    }
   },
   "id": "5644c5586d3d9104",
   "execution_count": 33
  },
  {
   "cell_type": "markdown",
   "source": [
    "## Next: We Move onto Feature Engineering -->"
   ],
   "metadata": {
    "collapsed": false
   },
   "id": "971a626d7d9cb274"
  },
  {
   "cell_type": "code",
   "outputs": [],
   "source": [],
   "metadata": {
    "collapsed": false
   },
   "id": "b582199e941d3491"
  }
 ],
 "metadata": {
  "kernelspec": {
   "display_name": "Python 3",
   "language": "python",
   "name": "python3"
  },
  "language_info": {
   "codemirror_mode": {
    "name": "ipython",
    "version": 2
   },
   "file_extension": ".py",
   "mimetype": "text/x-python",
   "name": "python",
   "nbconvert_exporter": "python",
   "pygments_lexer": "ipython2",
   "version": "2.7.6"
  }
 },
 "nbformat": 4,
 "nbformat_minor": 5
}

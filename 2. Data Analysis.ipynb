{
 "cells": [
  {
   "cell_type": "markdown",
   "source": [
    "## Importing Libraries"
   ],
   "metadata": {
    "collapsed": false
   },
   "id": "1b91fdc088e62243"
  },
  {
   "cell_type": "code",
   "outputs": [],
   "source": [
    "import pandas as pd"
   ],
   "metadata": {
    "collapsed": false
   },
   "id": "e4ac6c664ed1e77f",
   "execution_count": null
  },
  {
   "cell_type": "markdown",
   "source": [
    "## Creating Dataframes"
   ],
   "metadata": {
    "collapsed": false
   },
   "id": "2cf6a7fbd6f242"
  },
  {
   "cell_type": "code",
   "outputs": [],
   "source": [
    "df_headlines = pd.read_csv('Created Dataframes/Fetched Headline.csv')\n",
    "df_dates = pd.read_csv('Created Dataframes/Fetched Dates.csv')\n",
    "df_stock = pd.read_csv('Created Dataframes/Fetched Stock Data.csv')"
   ],
   "metadata": {
    "collapsed": false
   },
   "id": "88a585ae3ea154e5",
   "execution_count": null
  },
  {
   "cell_type": "markdown",
   "source": [
    "## Subreddit Headlines"
   ],
   "metadata": {
    "collapsed": false
   },
   "id": "5dbfa49f2c74fee0"
  },
  {
   "cell_type": "code",
   "outputs": [],
   "source": [
    "df_headlines"
   ],
   "metadata": {
    "collapsed": false
   },
   "id": "ead694fd56d94c4c",
   "execution_count": null
  },
  {
   "cell_type": "markdown",
   "source": [
    "## Subreddit Dates"
   ],
   "metadata": {
    "collapsed": false
   },
   "id": "c7bd39fbd464c8f9"
  },
  {
   "cell_type": "code",
   "outputs": [],
   "source": [
    "df_dates"
   ],
   "metadata": {
    "collapsed": false
   },
   "id": "24f442602200db13",
   "execution_count": null
  },
  {
   "cell_type": "markdown",
   "source": [
    "## Stock Movements"
   ],
   "metadata": {
    "collapsed": false
   },
   "id": "5458c3e65b89bebf"
  },
  {
   "cell_type": "code",
   "outputs": [],
   "source": [
    "df_stock"
   ],
   "metadata": {
    "collapsed": false
   },
   "id": "cee8aeaad37cd45a",
   "execution_count": null
  },
  {
   "cell_type": "markdown",
   "source": [
    "## Merge Headlines and Dates Dataframe"
   ],
   "metadata": {
    "collapsed": false
   },
   "id": "14ca26e070f5235c"
  },
  {
   "cell_type": "code",
   "outputs": [],
   "source": [
    "df_subreddit = pd.concat([df_headlines, df_dates], axis=1)\n",
    "df_subreddit"
   ],
   "metadata": {
    "collapsed": false
   },
   "id": "ea501ed7f950c857",
   "execution_count": null
  },
  {
   "cell_type": "markdown",
   "source": [
    "## Checking Null Values"
   ],
   "metadata": {
    "collapsed": false
   },
   "id": "baf70267ea7eb2f8"
  },
  {
   "cell_type": "code",
   "outputs": [],
   "source": [
    "df_stock.isnull().sum()"
   ],
   "metadata": {
    "collapsed": false
   },
   "id": "9a9a51fb69a28a6b",
   "execution_count": null
  },
  {
   "cell_type": "code",
   "outputs": [],
   "source": [
    "df_stock.dropna(axis=0, how='any', inplace=True)\n",
    "df_stock.isnull().sum()"
   ],
   "metadata": {
    "collapsed": false
   },
   "id": "61dc6066c52de9c7",
   "execution_count": null
  },
  {
   "cell_type": "code",
   "outputs": [],
   "source": [
    "df_subreddit.isnull().sum()"
   ],
   "metadata": {
    "collapsed": false
   },
   "id": "f411d78208624e8",
   "execution_count": null
  },
  {
   "cell_type": "markdown",
   "source": [
    "## Checking Date Discrepancy"
   ],
   "metadata": {
    "collapsed": false
   },
   "id": "9694a24e7ab0f372"
  },
  {
   "cell_type": "code",
   "outputs": [],
   "source": [
    "print(df_subreddit['Date'].min())\n",
    "print(df_subreddit['Date'].max())"
   ],
   "metadata": {
    "collapsed": true
   },
   "id": "initial_id",
   "execution_count": null
  },
  {
   "cell_type": "code",
   "outputs": [],
   "source": [
    "print(df_stock['Date'].min())\n",
    "print(df_stock['Date'].max())"
   ],
   "metadata": {
    "collapsed": false
   },
   "id": "edfa0486334778e3",
   "execution_count": null
  },
  {
   "cell_type": "code",
   "outputs": [],
   "source": [
    "remove_unmatched_data = df_subreddit[df_subreddit['Date'] > '2024-12-03'].index\n",
    "df_subreddit.drop(remove_unmatched_data,inplace=True)\n",
    "df_subreddit"
   ],
   "metadata": {
    "collapsed": false
   },
   "id": "23a03f7584a982b9",
   "execution_count": null
  },
  {
   "cell_type": "code",
   "outputs": [],
   "source": [
    "print(df_subreddit['Date'].min())\n",
    "print(df_subreddit['Date'].max())"
   ],
   "metadata": {
    "collapsed": false
   },
   "id": "daeba52d793a4610",
   "execution_count": null
  },
  {
   "cell_type": "markdown",
   "source": [
    "## Removing Timestamps"
   ],
   "metadata": {
    "collapsed": false
   },
   "id": "9a656eaf2cadd1a"
  },
  {
   "cell_type": "code",
   "outputs": [],
   "source": [
    "df_subreddit['Date'] = pd.to_datetime(df_subreddit['Date'])\n",
    "df_stock['Date'] = pd.to_datetime(df_stock['Date'])"
   ],
   "metadata": {
    "collapsed": false
   },
   "id": "bf620c4404a64613",
   "execution_count": null
  },
  {
   "cell_type": "code",
   "outputs": [],
   "source": [
    "df_subreddit['Date'] = df_subreddit['Date'].dt.date\n",
    "df_stock['Date'] = df_stock['Date'].dt.date\n",
    "df_subreddit"
   ],
   "metadata": {
    "collapsed": false
   },
   "id": "ff2f440b2c98e1da",
   "execution_count": null
  },
  {
   "cell_type": "code",
   "outputs": [],
   "source": [
    "df_stock"
   ],
   "metadata": {
    "collapsed": false
   },
   "id": "c74e7ad626cd3d7a",
   "execution_count": null
  },
  {
   "cell_type": "code",
   "outputs": [],
   "source": [
    "df_subreddit.info()"
   ],
   "metadata": {
    "collapsed": false
   },
   "id": "72d255ed35b8a17b",
   "execution_count": null
  },
  {
   "cell_type": "code",
   "outputs": [],
   "source": [
    "df_stock.info()"
   ],
   "metadata": {
    "collapsed": false
   },
   "id": "537a676b2b939be6",
   "execution_count": null
  },
  {
   "cell_type": "markdown",
   "source": [
    "## Convert Dates to datetime64"
   ],
   "metadata": {
    "collapsed": false
   },
   "id": "648f9ea007dc96b2"
  },
  {
   "cell_type": "code",
   "outputs": [],
   "source": [
    "df_subreddit['Date'] = pd.to_datetime(df_subreddit['Date'])\n",
    "df_stock['Date'] = pd.to_datetime(df_stock['Date'])"
   ],
   "metadata": {
    "collapsed": false
   },
   "id": "5767c3960471537a",
   "execution_count": null
  },
  {
   "cell_type": "code",
   "outputs": [],
   "source": [
    "df_subreddit.info()"
   ],
   "metadata": {
    "collapsed": false
   },
   "id": "9e95a5ccb87cbded",
   "execution_count": null
  },
  {
   "cell_type": "code",
   "outputs": [],
   "source": [
    "df_stock.info()"
   ],
   "metadata": {
    "collapsed": false
   },
   "id": "b213a5780049f2ab",
   "execution_count": null
  },
  {
   "cell_type": "markdown",
   "source": [
    "## Merging Subreddit Data and Stock Movements"
   ],
   "metadata": {
    "collapsed": false
   },
   "id": "fa38463d67b3fe5e"
  },
  {
   "cell_type": "code",
   "outputs": [],
   "source": [
    "merged_data = pd.merge(df_subreddit, df_stock, on='Date', how='inner')"
   ],
   "metadata": {
    "collapsed": false
   },
   "id": "3b2e4d624ad1fdae",
   "execution_count": null
  },
  {
   "cell_type": "code",
   "outputs": [],
   "source": [
    "merged_data.isnull().sum()"
   ],
   "metadata": {
    "collapsed": false
   },
   "id": "72fc850e05235f9c",
   "execution_count": null
  },
  {
   "cell_type": "markdown",
   "source": [
    "## Creating Final Dataset"
   ],
   "metadata": {
    "collapsed": false
   },
   "id": "1e74637e088f9954"
  },
  {
   "cell_type": "code",
   "outputs": [],
   "source": [
    "merged_data.to_csv('Final Dataset.csv',index=False,encoding='utf-8')\n",
    "merged_data"
   ],
   "metadata": {
    "collapsed": false
   },
   "id": "5644c5586d3d9104",
   "execution_count": null
  },
  {
   "cell_type": "markdown",
   "source": [
    "## Next: We Move onto Feature Engineering -->"
   ],
   "metadata": {
    "collapsed": false
   },
   "id": "971a626d7d9cb274"
  },
  {
   "cell_type": "code",
   "outputs": [],
   "source": [],
   "metadata": {
    "collapsed": false
   },
   "id": "b582199e941d3491"
  }
 ],
 "metadata": {
  "kernelspec": {
   "display_name": "Python 3",
   "language": "python",
   "name": "python3"
  },
  "language_info": {
   "codemirror_mode": {
    "name": "ipython",
    "version": 2
   },
   "file_extension": ".py",
   "mimetype": "text/x-python",
   "name": "python",
   "nbconvert_exporter": "python",
   "pygments_lexer": "ipython2",
   "version": "2.7.6"
  }
 },
 "nbformat": 4,
 "nbformat_minor": 5
}
